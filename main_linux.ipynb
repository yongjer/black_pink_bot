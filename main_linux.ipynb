{
 "cells": [
  {
   "cell_type": "code",
   "execution_count": null,
   "metadata": {},
   "outputs": [],
   "source": [
    "from selenium import webdriver\n",
    "\n",
    "from selenium.webdriver.chrome.service import Service\n",
    "\n",
    "from selenium.webdriver.common.by import By\n",
    "\n",
    "chromedriver = \"./chromedriver_linux_107\"\n",
    "\n",
    "option = webdriver.ChromeOptions()\n",
    "\n",
    "option.binary_location = '/opt/brave.com/brave/brave'\n",
    "\n",
    "driver = webdriver.Chrome(executable_path=chromedriver, options=option)\n",
    "\n",
    "driver.get(\"https://www.livenation.com.tw/show/1394786/blackpink-world-tour-born-pink-kaohsiung/kaohsiung/2023-03-18/tw\")\n",
    "\n",
    "purchase_button = driver.find_element(By.CLASS_NAME,\"eventtickets__ticket__buy--loggedin\")\n",
    "\n",
    "purchase_button.click()"
   ]
  }
 ],
 "metadata": {
  "kernelspec": {
   "display_name": "Python 3.10.6 ('sel')",
   "language": "python",
   "name": "python3"
  },
  "language_info": {
   "name": "python",
   "version": "3.10.6"
  },
  "orig_nbformat": 4,
  "vscode": {
   "interpreter": {
    "hash": "cc3c146dd2b45c4da514c73011e99fae028f02e82da8988dab510df75edd4a16"
   }
  }
 },
 "nbformat": 4,
 "nbformat_minor": 2
}
